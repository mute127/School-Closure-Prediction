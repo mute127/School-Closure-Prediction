{
  "nbformat": 4,
  "nbformat_minor": 0,
  "metadata": {
    "colab": {
      "provenance": []
    },
    "kernelspec": {
      "name": "python3",
      "display_name": "Python 3"
    },
    "language_info": {
      "name": "python"
    }
  },
  "cells": [
    {
      "cell_type": "code",
      "execution_count": null,
      "metadata": {
        "colab": {
          "base_uri": "https://localhost:8080/"
        },
        "id": "37rYHbNsq1AF",
        "outputId": "2c8e4177-f889-42b8-af17-1b91f0a8bcb7"
      },
      "outputs": [
        {
          "output_type": "stream",
          "name": "stdout",
          "text": [
            "Requirement already satisfied: pandas in /usr/local/lib/python3.10/dist-packages (2.0.3)\n",
            "Requirement already satisfied: numpy in /usr/local/lib/python3.10/dist-packages (1.25.2)\n",
            "Requirement already satisfied: matplotlib in /usr/local/lib/python3.10/dist-packages (3.7.1)\n",
            "Requirement already satisfied: scikit-learn in /usr/local/lib/python3.10/dist-packages (1.2.2)\n",
            "Requirement already satisfied: folium in /usr/local/lib/python3.10/dist-packages (0.14.0)\n",
            "Requirement already satisfied: geopy in /usr/local/lib/python3.10/dist-packages (2.3.0)\n",
            "Requirement already satisfied: branca in /usr/local/lib/python3.10/dist-packages (0.7.2)\n",
            "Requirement already satisfied: python-dateutil>=2.8.2 in /usr/local/lib/python3.10/dist-packages (from pandas) (2.8.2)\n",
            "Requirement already satisfied: pytz>=2020.1 in /usr/local/lib/python3.10/dist-packages (from pandas) (2023.4)\n",
            "Requirement already satisfied: tzdata>=2022.1 in /usr/local/lib/python3.10/dist-packages (from pandas) (2024.1)\n",
            "Requirement already satisfied: contourpy>=1.0.1 in /usr/local/lib/python3.10/dist-packages (from matplotlib) (1.2.1)\n",
            "Requirement already satisfied: cycler>=0.10 in /usr/local/lib/python3.10/dist-packages (from matplotlib) (0.12.1)\n",
            "Requirement already satisfied: fonttools>=4.22.0 in /usr/local/lib/python3.10/dist-packages (from matplotlib) (4.53.0)\n",
            "Requirement already satisfied: kiwisolver>=1.0.1 in /usr/local/lib/python3.10/dist-packages (from matplotlib) (1.4.5)\n",
            "Requirement already satisfied: packaging>=20.0 in /usr/local/lib/python3.10/dist-packages (from matplotlib) (24.0)\n",
            "Requirement already satisfied: pillow>=6.2.0 in /usr/local/lib/python3.10/dist-packages (from matplotlib) (9.4.0)\n",
            "Requirement already satisfied: pyparsing>=2.3.1 in /usr/local/lib/python3.10/dist-packages (from matplotlib) (3.1.2)\n",
            "Requirement already satisfied: scipy>=1.3.2 in /usr/local/lib/python3.10/dist-packages (from scikit-learn) (1.11.4)\n",
            "Requirement already satisfied: joblib>=1.1.1 in /usr/local/lib/python3.10/dist-packages (from scikit-learn) (1.4.2)\n",
            "Requirement already satisfied: threadpoolctl>=2.0.0 in /usr/local/lib/python3.10/dist-packages (from scikit-learn) (3.5.0)\n",
            "Requirement already satisfied: jinja2>=2.9 in /usr/local/lib/python3.10/dist-packages (from folium) (3.1.4)\n",
            "Requirement already satisfied: requests in /usr/local/lib/python3.10/dist-packages (from folium) (2.31.0)\n",
            "Requirement already satisfied: geographiclib<3,>=1.52 in /usr/local/lib/python3.10/dist-packages (from geopy) (2.0)\n",
            "Requirement already satisfied: MarkupSafe>=2.0 in /usr/local/lib/python3.10/dist-packages (from jinja2>=2.9->folium) (2.1.5)\n",
            "Requirement already satisfied: six>=1.5 in /usr/local/lib/python3.10/dist-packages (from python-dateutil>=2.8.2->pandas) (1.16.0)\n",
            "Requirement already satisfied: charset-normalizer<4,>=2 in /usr/local/lib/python3.10/dist-packages (from requests->folium) (3.3.2)\n",
            "Requirement already satisfied: idna<4,>=2.5 in /usr/local/lib/python3.10/dist-packages (from requests->folium) (3.7)\n",
            "Requirement already satisfied: urllib3<3,>=1.21.1 in /usr/local/lib/python3.10/dist-packages (from requests->folium) (2.0.7)\n",
            "Requirement already satisfied: certifi>=2017.4.17 in /usr/local/lib/python3.10/dist-packages (from requests->folium) (2024.6.2)\n"
          ]
        }
      ],
      "source": [
        "# 필요한 라이브러리 설치\n",
        "!pip install pandas numpy matplotlib scikit-learn folium geopy branca\n",
        "\n",
        "# 라이브러리 불러오기\n",
        "import pandas as pd\n",
        "import numpy as np\n",
        "import matplotlib.pyplot as plt\n",
        "from sklearn.cluster import KMeans\n",
        "from sklearn.metrics import pairwise_distances\n",
        "import folium\n",
        "from geopy.distance import geodesic\n",
        "from google.colab import drive\n",
        "from IPython.display import display, HTML\n"
      ]
    },
    {
      "cell_type": "code",
      "source": [
        "\n",
        "# Google Colab을 사용하실 경우, 아래와 같이 데이터 파일을 업로드하시면 됩니다.\n",
        "drive.mount(\"/content/drive/\")\n",
        "\n",
        "# 데이터 로딩\n",
        "enrollment_data = pd.read_excel(\"/content/drive/MyDrive/송파구 초등학교 입학자_수정.xlsx\")\n",
        "geographical_data = pd.read_excel(\"/content/drive/MyDrive/강동송파교육지원청.xlsx\")\n"
      ],
      "metadata": {
        "colab": {
          "base_uri": "https://localhost:8080/"
        },
        "id": "GZopJRe0q3Zl",
        "outputId": "4b8e95f6-bda4-4877-d922-814b0592333c"
      },
      "execution_count": null,
      "outputs": [
        {
          "output_type": "stream",
          "name": "stdout",
          "text": [
            "Mounted at /content/drive/\n"
          ]
        }
      ]
    },
    {
      "cell_type": "code",
      "source": [
        "\n",
        "# 데이터 병합\n",
        "merged_data = pd.merge(enrollment_data, geographical_data, on='학교명', how='inner')\n"
      ],
      "metadata": {
        "id": "9aLQjywxq5On"
      },
      "execution_count": null,
      "outputs": []
    },
    {
      "cell_type": "code",
      "source": [
        "\n",
        "# 입학자 수 추세 계산\n",
        "years = range(2008, 2024)\n",
        "for year in years:\n",
        "    if year + 1 in years:\n",
        "        merged_data[f'Change_{year}-{year+1}'] = (merged_data[year + 1] - merged_data[year]) / merged_data[year]\n",
        "merged_data['Mean_Change'] = merged_data[[f'Change_{year}-{year+1}' for year in years if year + 1 in years]].mean(axis=1)\n"
      ],
      "metadata": {
        "id": "iNRDkbtRq6sZ"
      },
      "execution_count": null,
      "outputs": []
    },
    {
      "cell_type": "code",
      "source": [
        "\n",
        "# 감소 추세의 학교 필터링\n",
        "decreasing_enrollment_schools = merged_data[merged_data['Mean_Change'] < 0]\n"
      ],
      "metadata": {
        "id": "0XR8XnJnq7w-"
      },
      "execution_count": null,
      "outputs": []
    },
    {
      "cell_type": "code",
      "source": [
        "\n",
        "# 클러스터링\n",
        "coordinates = decreasing_enrollment_schools[['위도', '경도']]\n",
        "kmeans = KMeans(n_clusters=4, init='k-means++', max_iter=300, n_init=10, random_state=0)\n",
        "cluster_labels = kmeans.fit_predict(coordinates)\n",
        "decreasing_enrollment_schools['Cluster'] = cluster_labels\n",
        "\n",
        "# 통폐합 후보군 학교 쌍\n",
        "school_pairs = [\n",
        "    ('서울방이초등학교', '서울방산초등학교'),\n",
        "    ('서울가주초등학교', '서울가동초등학교'),\n",
        "    ('서울토성초등학교', '서울풍납초등학교'),\n",
        "    ('서울송전초등학교', '서울신천초등학교')\n",
        "]\n",
        "\n",
        "# 지도 시각화\n",
        "map_center = [decreasing_enrollment_schools['위도'].mean(), decreasing_enrollment_schools['경도'].mean()]\n",
        "school_map = folium.Map(location=map_center, zoom_start=12)\n",
        "cluster_colors = ['red', 'blue', 'green', 'purple']\n",
        "\n",
        "for idx, row in decreasing_enrollment_schools.iterrows():\n",
        "    folium.CircleMarker(\n",
        "        location=[row['위도'], row['경도']],\n",
        "        radius=5,\n",
        "        popup=f\"{row['학교명']} (Cluster {row['Cluster']})\",\n",
        "        color=cluster_colors[row['Cluster']],\n",
        "        fill=True,\n",
        "        fill_color=cluster_colors[row['Cluster']]\n",
        "    ).add_to(school_map)\n",
        "\n",
        "# 통폐합 후보군 학교 쌍에 대해 연결선 추가\n",
        "for school1_name, school2_name in school_pairs:\n",
        "    school1 = decreasing_enrollment_schools[decreasing_enrollment_schools['학교명'] == school1_name].iloc[0]\n",
        "    school2 = decreasing_enrollment_schools[decreasing_enrollment_schools['학교명'] == school2_name].iloc[0]\n",
        "\n",
        "    # Draw a line between the two schools\n",
        "    folium.PolyLine(locations=[(school1['위도'], school1['경도']), (school2['위도'], school2['경도'])], color='gray').add_to(school_map)\n",
        "\n",
        "# 지도 저장\n",
        "school_map.save('/content/Schools_Cluster_Map.html')\n",
        "\n",
        "# 파일을 다운로드할 수 있는 링크 제공\n",
        "from google.colab import files\n",
        "files.download('/content/Schools_Cluster_Map.html')"
      ],
      "metadata": {
        "colab": {
          "base_uri": "https://localhost:8080/",
          "height": 127
        },
        "id": "N53imYBaq9Ru",
        "outputId": "18e69643-bf64-4b69-e8e0-e35a17cf9b75"
      },
      "execution_count": null,
      "outputs": [
        {
          "output_type": "stream",
          "name": "stderr",
          "text": [
            "<ipython-input-6-ff6f8c95819c>:5: SettingWithCopyWarning: \n",
            "A value is trying to be set on a copy of a slice from a DataFrame.\n",
            "Try using .loc[row_indexer,col_indexer] = value instead\n",
            "\n",
            "See the caveats in the documentation: https://pandas.pydata.org/pandas-docs/stable/user_guide/indexing.html#returning-a-view-versus-a-copy\n",
            "  decreasing_enrollment_schools['Cluster'] = cluster_labels\n"
          ]
        },
        {
          "output_type": "display_data",
          "data": {
            "text/plain": [
              "<IPython.core.display.Javascript object>"
            ],
            "application/javascript": [
              "\n",
              "    async function download(id, filename, size) {\n",
              "      if (!google.colab.kernel.accessAllowed) {\n",
              "        return;\n",
              "      }\n",
              "      const div = document.createElement('div');\n",
              "      const label = document.createElement('label');\n",
              "      label.textContent = `Downloading \"${filename}\": `;\n",
              "      div.appendChild(label);\n",
              "      const progress = document.createElement('progress');\n",
              "      progress.max = size;\n",
              "      div.appendChild(progress);\n",
              "      document.body.appendChild(div);\n",
              "\n",
              "      const buffers = [];\n",
              "      let downloaded = 0;\n",
              "\n",
              "      const channel = await google.colab.kernel.comms.open(id);\n",
              "      // Send a message to notify the kernel that we're ready.\n",
              "      channel.send({})\n",
              "\n",
              "      for await (const message of channel.messages) {\n",
              "        // Send a message to notify the kernel that we're ready.\n",
              "        channel.send({})\n",
              "        if (message.buffers) {\n",
              "          for (const buffer of message.buffers) {\n",
              "            buffers.push(buffer);\n",
              "            downloaded += buffer.byteLength;\n",
              "            progress.value = downloaded;\n",
              "          }\n",
              "        }\n",
              "      }\n",
              "      const blob = new Blob(buffers, {type: 'application/binary'});\n",
              "      const a = document.createElement('a');\n",
              "      a.href = window.URL.createObjectURL(blob);\n",
              "      a.download = filename;\n",
              "      div.appendChild(a);\n",
              "      a.click();\n",
              "      div.remove();\n",
              "    }\n",
              "  "
            ]
          },
          "metadata": {}
        },
        {
          "output_type": "display_data",
          "data": {
            "text/plain": [
              "<IPython.core.display.Javascript object>"
            ],
            "application/javascript": [
              "download(\"download_0a1773be-49ed-43cb-a47b-954ad9b4b843\", \"Schools_Cluster_Map.html\", 33510)"
            ]
          },
          "metadata": {}
        }
      ]
    }
  ]
}